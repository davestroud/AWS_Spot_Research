{
 "cells": [
  {
   "cell_type": "code",
   "execution_count": 4,
   "metadata": {},
   "outputs": [],
   "source": [
    "import pandas as pd\n",
    "import seaborn as sns"
   ]
  },
  {
   "cell_type": "code",
   "execution_count": 9,
   "metadata": {},
   "outputs": [
    {
     "data": {
      "text/html": [
       "<div>\n",
       "<style scoped>\n",
       "    .dataframe tbody tr th:only-of-type {\n",
       "        vertical-align: middle;\n",
       "    }\n",
       "\n",
       "    .dataframe tbody tr th {\n",
       "        vertical-align: top;\n",
       "    }\n",
       "\n",
       "    .dataframe thead th {\n",
       "        text-align: right;\n",
       "    }\n",
       "</style>\n",
       "<table border=\"1\" class=\"dataframe\">\n",
       "  <thead>\n",
       "    <tr style=\"text-align: right;\">\n",
       "      <th></th>\n",
       "      <th>ProductDescription</th>\n",
       "      <th>SpotPrice</th>\n",
       "      <th>Timestamp</th>\n",
       "    </tr>\n",
       "  </thead>\n",
       "  <tbody>\n",
       "    <tr>\n",
       "      <th>191</th>\n",
       "      <td>SUSE Linux</td>\n",
       "      <td>0.2171</td>\n",
       "      <td>2020-07-05 01:38:16+00:00</td>\n",
       "    </tr>\n",
       "    <tr>\n",
       "      <th>190</th>\n",
       "      <td>Red Hat Enterprise Linux</td>\n",
       "      <td>0.1971</td>\n",
       "      <td>2020-07-05 01:38:16+00:00</td>\n",
       "    </tr>\n",
       "    <tr>\n",
       "      <th>189</th>\n",
       "      <td>Linux/UNIX</td>\n",
       "      <td>0.0671</td>\n",
       "      <td>2020-07-05 01:38:16+00:00</td>\n",
       "    </tr>\n",
       "    <tr>\n",
       "      <th>188</th>\n",
       "      <td>SUSE Linux</td>\n",
       "      <td>0.2171</td>\n",
       "      <td>2020-07-04 01:37:58+00:00</td>\n",
       "    </tr>\n",
       "    <tr>\n",
       "      <th>187</th>\n",
       "      <td>Red Hat Enterprise Linux</td>\n",
       "      <td>0.1971</td>\n",
       "      <td>2020-07-04 01:37:58+00:00</td>\n",
       "    </tr>\n",
       "  </tbody>\n",
       "</table>\n",
       "</div>"
      ],
      "text/plain": [
       "           ProductDescription  SpotPrice                 Timestamp\n",
       "191                SUSE Linux     0.2171 2020-07-05 01:38:16+00:00\n",
       "190  Red Hat Enterprise Linux     0.1971 2020-07-05 01:38:16+00:00\n",
       "189                Linux/UNIX     0.0671 2020-07-05 01:38:16+00:00\n",
       "188                SUSE Linux     0.2171 2020-07-04 01:37:58+00:00\n",
       "187  Red Hat Enterprise Linux     0.1971 2020-07-04 01:37:58+00:00"
      ]
     },
     "execution_count": 9,
     "metadata": {},
     "output_type": "execute_result"
    }
   ],
   "source": [
    "data = pd.read_csv('us_east_1a.csv')\n",
    "data['Timestamp'] = pd.to_datetime(data['Timestamp'])\n",
    "data = data.sort_values('Timestamp', ascending=False)\n",
    "data.head()"
   ]
  },
  {
   "cell_type": "code",
   "execution_count": null,
   "metadata": {},
   "outputs": [],
   "source": []
  },
  {
   "cell_type": "code",
   "execution_count": null,
   "metadata": {},
   "outputs": [],
   "source": []
  }
 ],
 "metadata": {
  "kernelspec": {
   "display_name": "Python 3",
   "language": "python",
   "name": "python3"
  },
  "language_info": {
   "codemirror_mode": {
    "name": "ipython",
    "version": 3
   },
   "file_extension": ".py",
   "mimetype": "text/x-python",
   "name": "python",
   "nbconvert_exporter": "python",
   "pygments_lexer": "ipython3",
   "version": "3.8.3"
  }
 },
 "nbformat": 4,
 "nbformat_minor": 4
}
